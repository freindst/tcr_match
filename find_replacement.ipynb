{
 "cells": [
  {
   "cell_type": "code",
   "execution_count": 1,
   "metadata": {},
   "outputs": [],
   "source": [
    "import pandas as pd"
   ]
  },
  {
   "cell_type": "code",
   "execution_count": 3,
   "metadata": {},
   "outputs": [],
   "source": [
    "df_gene = pd.read_csv('IMGT_GENEs.csv', index_col=0)"
   ]
  },
  {
   "cell_type": "code",
   "execution_count": 4,
   "metadata": {},
   "outputs": [
    {
     "data": {
      "text/html": [
       "<div>\n",
       "<style scoped>\n",
       "    .dataframe tbody tr th:only-of-type {\n",
       "        vertical-align: middle;\n",
       "    }\n",
       "\n",
       "    .dataframe tbody tr th {\n",
       "        vertical-align: top;\n",
       "    }\n",
       "\n",
       "    .dataframe thead th {\n",
       "        text-align: right;\n",
       "    }\n",
       "</style>\n",
       "<table border=\"1\" class=\"dataframe\">\n",
       "  <thead>\n",
       "    <tr style=\"text-align: right;\">\n",
       "      <th></th>\n",
       "      <th>accession number</th>\n",
       "      <th>name</th>\n",
       "      <th>species</th>\n",
       "      <th>functionality</th>\n",
       "      <th>exon/name/label</th>\n",
       "      <th>start end positions</th>\n",
       "      <th>number of nucleotides</th>\n",
       "      <th>codon start</th>\n",
       "      <th>+n</th>\n",
       "      <th>+/-n</th>\n",
       "      <th>error corrections</th>\n",
       "      <th>number of AA</th>\n",
       "      <th>number of char</th>\n",
       "      <th>partial</th>\n",
       "      <th>reverse complementary</th>\n",
       "      <th>FASTA</th>\n",
       "    </tr>\n",
       "  </thead>\n",
       "  <tbody>\n",
       "    <tr>\n",
       "      <th>0</th>\n",
       "      <td>KT723008</td>\n",
       "      <td>IGHA*01</td>\n",
       "      <td>Bos taurus_Holstein</td>\n",
       "      <td>F</td>\n",
       "      <td>CH1</td>\n",
       "      <td>n,652007..652311</td>\n",
       "      <td>306 nt</td>\n",
       "      <td>1</td>\n",
       "      <td>+1</td>\n",
       "      <td>-1</td>\n",
       "      <td></td>\n",
       "      <td>102 AA</td>\n",
       "      <td>102+0=102</td>\n",
       "      <td></td>\n",
       "      <td></td>\n",
       "      <td>XSETSPSIFPLSLGNNDPAGQVVIGCLVQGFFPSAPLSVTWNQNGD...</td>\n",
       "    </tr>\n",
       "    <tr>\n",
       "      <th>1</th>\n",
       "      <td>KT723008</td>\n",
       "      <td>IGHA*01</td>\n",
       "      <td>Bos taurus_Holstein</td>\n",
       "      <td>F</td>\n",
       "      <td>H-CH2</td>\n",
       "      <td>g,652493..652821</td>\n",
       "      <td>330 nt</td>\n",
       "      <td>1</td>\n",
       "      <td>+1</td>\n",
       "      <td>-1</td>\n",
       "      <td></td>\n",
       "      <td>110 AA</td>\n",
       "      <td>110+0=110</td>\n",
       "      <td></td>\n",
       "      <td></td>\n",
       "      <td>DSSSCCVPNCEPSLSVQPPALEDLLLGSNASLTCTLSGLKSAEGAS...</td>\n",
       "    </tr>\n",
       "    <tr>\n",
       "      <th>2</th>\n",
       "      <td>KT723008</td>\n",
       "      <td>IGHA*01</td>\n",
       "      <td>Bos taurus_Holstein</td>\n",
       "      <td>F</td>\n",
       "      <td>CH3-CHS</td>\n",
       "      <td>g,653011..653402</td>\n",
       "      <td>393 nt</td>\n",
       "      <td>1</td>\n",
       "      <td>+1</td>\n",
       "      <td></td>\n",
       "      <td></td>\n",
       "      <td>131 AA</td>\n",
       "      <td>131+0=131</td>\n",
       "      <td></td>\n",
       "      <td></td>\n",
       "      <td>GNTFRPQVHLLPPPSEELALNELVTLTCLVRGFSPKEVLVRWLQGN...</td>\n",
       "    </tr>\n",
       "    <tr>\n",
       "      <th>3</th>\n",
       "      <td>KT723008</td>\n",
       "      <td>IGHA*01</td>\n",
       "      <td>Bos taurus_Holstein</td>\n",
       "      <td>F</td>\n",
       "      <td>M</td>\n",
       "      <td>g,655709..655893</td>\n",
       "      <td>186 nt</td>\n",
       "      <td>1</td>\n",
       "      <td>+1</td>\n",
       "      <td></td>\n",
       "      <td></td>\n",
       "      <td>62 AA</td>\n",
       "      <td>62+0=62</td>\n",
       "      <td></td>\n",
       "      <td></td>\n",
       "      <td>EHQPWLVLDLMQSSPEEDSPEASLWPTTVTLLTLFLLSLFYSTALT...</td>\n",
       "    </tr>\n",
       "    <tr>\n",
       "      <th>4</th>\n",
       "      <td>KT723008</td>\n",
       "      <td>IGHD*02</td>\n",
       "      <td>Bos taurus_Holstein</td>\n",
       "      <td>ORF</td>\n",
       "      <td>CH1</td>\n",
       "      <td>n,525572..525894</td>\n",
       "      <td>324 nt</td>\n",
       "      <td>1</td>\n",
       "      <td>+1</td>\n",
       "      <td>-1</td>\n",
       "      <td></td>\n",
       "      <td>108 AA</td>\n",
       "      <td>108+0=108</td>\n",
       "      <td></td>\n",
       "      <td></td>\n",
       "      <td>XGESHLRVFSLVSCVSSPSDESTVALGCLARDFVPNSVSFSWKFNN...</td>\n",
       "    </tr>\n",
       "  </tbody>\n",
       "</table>\n",
       "</div>"
      ],
      "text/plain": [
       "  accession number     name              species functionality  \\\n",
       "0         KT723008  IGHA*01  Bos taurus_Holstein             F   \n",
       "1         KT723008  IGHA*01  Bos taurus_Holstein             F   \n",
       "2         KT723008  IGHA*01  Bos taurus_Holstein             F   \n",
       "3         KT723008  IGHA*01  Bos taurus_Holstein             F   \n",
       "4         KT723008  IGHD*02  Bos taurus_Holstein           ORF   \n",
       "\n",
       "  exon/name/label start end positions number of nucleotides  codon start  +n  \\\n",
       "0             CH1    n,652007..652311                306 nt            1  +1   \n",
       "1           H-CH2    g,652493..652821                330 nt            1  +1   \n",
       "2         CH3-CHS    g,653011..653402                393 nt            1  +1   \n",
       "3               M    g,655709..655893                186 nt            1  +1   \n",
       "4             CH1    n,525572..525894                324 nt            1  +1   \n",
       "\n",
       "  +/-n error corrections number of AA number of char partial  \\\n",
       "0   -1                         102 AA      102+0=102           \n",
       "1   -1                         110 AA      110+0=110           \n",
       "2                              131 AA      131+0=131           \n",
       "3                               62 AA        62+0=62           \n",
       "4   -1                         108 AA      108+0=108           \n",
       "\n",
       "  reverse complementary                                              FASTA  \n",
       "0                        XSETSPSIFPLSLGNNDPAGQVVIGCLVQGFFPSAPLSVTWNQNGD...  \n",
       "1                        DSSSCCVPNCEPSLSVQPPALEDLLLGSNASLTCTLSGLKSAEGAS...  \n",
       "2                        GNTFRPQVHLLPPPSEELALNELVTLTCLVRGFSPKEVLVRWLQGN...  \n",
       "3                        EHQPWLVLDLMQSSPEEDSPEASLWPTTVTLLTLFLLSLFYSTALT...  \n",
       "4                        XGESHLRVFSLVSCVSSPSDESTVALGCLARDFVPNSVSFSWKFNN...  "
      ]
     },
     "execution_count": 4,
     "metadata": {},
     "output_type": "execute_result"
    }
   ],
   "source": [
    "df_gene.head()"
   ]
  },
  {
   "cell_type": "code",
   "execution_count": 6,
   "metadata": {},
   "outputs": [],
   "source": [
    "def longest_common_substring(s1, s2):\n",
    "    m, n = len(s1), len(s2)\n",
    "    # Create a 2D array to store lengths of longest common suffixes\n",
    "    lcsuff = [[0] * (n + 1) for _ in range(m + 1)]\n",
    "    length = 0  # Length of longest common substring\n",
    "    end_pos = 0  # Ending position of longest common substring in s1\n",
    "\n",
    "    # Build the lcsuff array\n",
    "    for i in range(1, m + 1):\n",
    "        for j in range(1, n + 1):\n",
    "            if s1[i - 1] == s2[j - 1]:\n",
    "                lcsuff[i][j] = lcsuff[i - 1][j - 1] + 1\n",
    "                if lcsuff[i][j] > length:\n",
    "                    length = lcsuff[i][j]\n",
    "                    end_pos = i\n",
    "            else:\n",
    "                lcsuff[i][j] = 0\n",
    "\n",
    "    # The longest common substring\n",
    "    return s1[end_pos - length: end_pos]"
   ]
  },
  {
   "cell_type": "code",
   "execution_count": 19,
   "metadata": {},
   "outputs": [],
   "source": [
    "# search for the gene based on name and species from IMGT_GENE_DB\n",
    "def find_sequence(dataframe, name, species='Homo sapiens'):\n",
    "    found = dataframe.loc[(dataframe['name'] == name) & (dataframe['species'] == species)]\n",
    "    if len(found) > 0:\n",
    "        return found['FASTA'].iloc[0]\n",
    "    return \"\""
   ]
  },
  {
   "cell_type": "code",
   "execution_count": 5,
   "metadata": {},
   "outputs": [],
   "source": [
    "v_b = \"TRBV7-9*01\"\n",
    "j_b = \"TRBJ1-5*01\"\n",
    "cdr3 = \"CASSLAVGEGPQHF\""
   ]
  },
  {
   "cell_type": "code",
   "execution_count": 14,
   "metadata": {},
   "outputs": [],
   "source": [
    "v_seq = find_sequence(df_gene, v_b)\n",
    "j_seq = find_sequence(df_gene, j_b)"
   ]
  },
  {
   "cell_type": "code",
   "execution_count": 23,
   "metadata": {},
   "outputs": [],
   "source": [
    "#get the full sequence from finding the longest common string in both v and j gene sequences\n",
    "#return the replaced full sequence and the begin and end AA number(index)\n",
    "def get_tcr_seq_cdr_region(gene_dataframe, v_gene, j_gene, cdr3, species=\"Homo sapiens\"):\n",
    "    v_seq = find_sequence(gene_dataframe, v_gene, species)\n",
    "    j_seq = find_sequence(gene_dataframe, j_gene, species)\n",
    "    #find the longest common string beween gene and cdr3\n",
    "    v_common = longest_common_substring(cdr3, v_seq)\n",
    "    j_common = longest_common_substring(cdr3, j_seq)\n",
    "    if len(v_common) == 0 or len(j_common) == 0:\n",
    "        raise AssertionError(\"Cannot find matching part\")\n",
    "    full_seq = \"\"\n",
    "    begin = v_seq.index(v_common)\n",
    "    end = begin + len(cdr3)\n",
    "    end_j = j_seq.index(j_common) + len(j_common)\n",
    "    #assemble v gene (until the beginning of cdr3) + cdr3 + j gene (untile the end of cdr3)\n",
    "    full_seq = v_seq[:begin] + cdr3 + j_seq[end_j:]\n",
    "    return begin, end, full_seq"
   ]
  },
  {
   "cell_type": "code",
   "execution_count": 15,
   "metadata": {},
   "outputs": [
    {
     "name": "stdout",
     "output_type": "stream",
     "text": [
      "CASSL\n"
     ]
    }
   ],
   "source": [
    "a = longest_common_substring(cdr3, v_seq)\n",
    "print(a)"
   ]
  },
  {
   "cell_type": "code",
   "execution_count": 16,
   "metadata": {},
   "outputs": [
    {
     "name": "stdout",
     "output_type": "stream",
     "text": [
      "PQHF\n"
     ]
    }
   ],
   "source": [
    "b = longest_common_substring(cdr3, j_seq)\n",
    "print(b)"
   ]
  },
  {
   "cell_type": "code",
   "execution_count": 24,
   "metadata": {},
   "outputs": [],
   "source": [
    "begin, end, full_seq = get_tcr_seq_cdr_region(df_gene, v_b, j_b, cdr3)"
   ]
  },
  {
   "cell_type": "code",
   "execution_count": 25,
   "metadata": {},
   "outputs": [
    {
     "data": {
      "text/plain": [
       "'CASSLAVGEGPQHF'"
      ]
     },
     "execution_count": 25,
     "metadata": {},
     "output_type": "execute_result"
    }
   ],
   "source": [
    "full_seq[begin: end]"
   ]
  },
  {
   "cell_type": "code",
   "execution_count": 26,
   "metadata": {},
   "outputs": [
    {
     "name": "stdout",
     "output_type": "stream",
     "text": [
      "DTGVSQNPRHKITKRGQNVTFRCDPISEHNRLYWYRQTLGQGPEFLTYFQNEAQLEKSRLLSDRFSAERPKGSFSTLEIQRTEQGDSAMYLCASSLAVGEGPQHFGDGTRLSIL\n",
      "SNQPQHFGDGTRLSIL\n"
     ]
    }
   ],
   "source": [
    "print(full_seq)\n",
    "print(j_seq)"
   ]
  }
 ],
 "metadata": {
  "kernelspec": {
   "display_name": "dataprocess",
   "language": "python",
   "name": "python3"
  },
  "language_info": {
   "codemirror_mode": {
    "name": "ipython",
    "version": 3
   },
   "file_extension": ".py",
   "mimetype": "text/x-python",
   "name": "python",
   "nbconvert_exporter": "python",
   "pygments_lexer": "ipython3",
   "version": "3.11.9"
  }
 },
 "nbformat": 4,
 "nbformat_minor": 2
}
